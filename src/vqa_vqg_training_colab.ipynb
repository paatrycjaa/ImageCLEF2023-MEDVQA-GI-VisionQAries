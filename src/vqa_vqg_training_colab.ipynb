{
  "nbformat": 4,
  "nbformat_minor": 0,
  "metadata": {
    "colab": {
      "provenance": []
    },
    "kernelspec": {
      "name": "python3",
      "display_name": "Python 3"
    },
    "language_info": {
      "name": "python"
    },
    "accelerator": "GPU",
    "gpuClass": "standard"
  },
  "cells": [
    {
      "cell_type": "code",
      "execution_count": null,
      "metadata": {
        "colab": {
          "base_uri": "https://localhost:8080/"
        },
        "id": "bv7ImEXcgKFB",
        "outputId": "6332a196-f626-4257-8eb9-97864bfe7560"
      },
      "outputs": [
        {
          "output_type": "stream",
          "name": "stdout",
          "text": [
            "Mounted at /content/drive\n"
          ]
        }
      ],
      "source": [
        "from google.colab import drive\n",
        "drive.mount('/content/drive')"
      ]
    },
    {
      "cell_type": "code",
      "source": [
        "%%capture\n",
        "!pip install datasets transformers\n",
        "!pip install --upgrade accelerate"
      ],
      "metadata": {
        "id": "ux8uw3n0gPsp"
      },
      "execution_count": null,
      "outputs": []
    },
    {
      "cell_type": "code",
      "source": [
        "!rm img_clef_vqa -rf\n",
        "\n",
        "branch = \"multilabel\"\n",
        "\n",
        "import os\n",
        "# Personal access key for github\n",
        "with open('/content/drive/MyDrive/gitkey.txt') as f:\n",
        "  personal_access_token = f.read()\n",
        "os.system(f\"git clone -b {branch} https://{personal_access_token}@github.com/paatrycjaa/img_clef_vqa.git\")"
      ],
      "metadata": {
        "colab": {
          "base_uri": "https://localhost:8080/"
        },
        "id": "m_XFFaPygQzH",
        "outputId": "2a702b78-7432-4fc4-ecda-b612e5f19e30"
      },
      "execution_count": null,
      "outputs": [
        {
          "output_type": "execute_result",
          "data": {
            "text/plain": [
              "0"
            ]
          },
          "metadata": {},
          "execution_count": 5
        }
      ]
    },
    {
      "cell_type": "code",
      "source": [
        "!python3 img_clef_vqa/src/pipeline_vqga.py \\\n",
        "  \"/content/drive/MyDrive/data/\" \\\n",
        "  \"/content/drive/MyDrive/models/\" \\\n",
        "  \"true\" \\\n",
        "  \"/content/img_clef_vqa/src/template/vqg_05_dense_8k.yaml\" \\\n",
        "  \"true\" \\\n",
        "  \"/content/drive/MyDrive/data/ImageCLEFmed-MEDVQA-GI-2023-Testing-Dataset/images/\" \\\n",
        "  \"/content/img_clef_vqa/data/inference_answers.txt\" \\\n",
        "  \"/content/drive/MyDrive/vqg_05_dense_8k.json\""
      ],
      "metadata": {
        "id": "0itosU9EgRnj"
      },
      "execution_count": null,
      "outputs": []
    },
    {
      "cell_type": "code",
      "source": [
        "%load_ext tensorboard\n",
        "%tensorboard --logdir /content/drive/MyDrive/models"
      ],
      "metadata": {
        "id": "oF7PASP4uxX_"
      },
      "execution_count": null,
      "outputs": []
    }
  ]
}